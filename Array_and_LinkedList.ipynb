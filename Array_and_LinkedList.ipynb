{
 "cells": [
  {
   "cell_type": "markdown",
   "id": "e95301a7",
   "metadata": {},
   "source": [
    "Arrays"
   ]
  },
  {
   "cell_type": "code",
   "execution_count": 2,
   "id": "560159c5",
   "metadata": {},
   "outputs": [],
   "source": [
    "new_list=[1,2,3]"
   ]
  },
  {
   "cell_type": "code",
   "execution_count": 3,
   "id": "9ef903bc",
   "metadata": {},
   "outputs": [],
   "source": [
    "result = new_list[0]"
   ]
  },
  {
   "cell_type": "code",
   "execution_count": 4,
   "id": "906fdcc8",
   "metadata": {},
   "outputs": [
    {
     "name": "stdout",
     "output_type": "stream",
     "text": [
      "True\n",
      "True\n"
     ]
    }
   ],
   "source": [
    "if 1 in new_list:\n",
    "    print(True)\n",
    "for n in new_list:\n",
    "    if n==1:\n",
    "        print(True)\n",
    "        break"
   ]
  },
  {
   "cell_type": "markdown",
   "id": "62a037a1",
   "metadata": {},
   "source": [
    "Linked List"
   ]
  },
  {
   "cell_type": "code",
   "execution_count": 52,
   "id": "f8f0b450",
   "metadata": {},
   "outputs": [],
   "source": [
    "class Node:\n",
    "    \"\"\"\n",
    "    An object for storing a single node of a linked list.\n",
    "    Models two attributes - data and the link to the next node\n",
    "    in the list\n",
    "    \"\"\"\n",
    "    data =None\n",
    "    next_node=None\n",
    "    \n",
    "    def __init__(self,data):\n",
    "        self.data=data   \n",
    "    def __repr__(self):\n",
    "        return \"<Node data: %s>\" %self.data\n",
    "class LinkedList:\n",
    "    \"\"\"\n",
    "    Singly Linked List!\n",
    "    \"\"\"\n",
    "    head = None\n",
    "    def __init__(self):\n",
    "        self.head = None\n",
    "        \n",
    "    def is_empty(self):\n",
    "        return self.head ==None\n",
    "    def size(self):\n",
    "        \"\"\"\n",
    "        Returns the nuber of nodes in the list\n",
    "        takes linear time\n",
    "        \"\"\"\n",
    "        current =self.head\n",
    "        count = 0\n",
    "        while current:\n",
    "            count +=1\n",
    "            current = current.next_node\n",
    "        return count\n",
    "    \n",
    "    def add(self,data):\n",
    "        \n",
    "        \"\"\"\n",
    "        Adds new node containing data at head of the list\n",
    "        Takes O(1) time\n",
    "        \"\"\"\n",
    "        \n",
    "        new_node = Node(data)\n",
    "        new_node.next_node = self.head\n",
    "        self.head = new_node\n",
    "     \n",
    "    \n",
    "    def search(self,key):\n",
    "        \n",
    "        \"\"\"\n",
    "        Search for the first node containing data that matches \n",
    "        the key\n",
    "        Take O(n) time\n",
    "        \"\"\"\n",
    "        \n",
    "        current = self.head\n",
    "        while current:\n",
    "            if current.data==key:\n",
    "                return current\n",
    "            else:\n",
    "                current = current.next_node\n",
    "        return None\n",
    "    \n",
    "    def insert(self,data,index):\n",
    "        \"\"\"\n",
    "        Inserts a new Node containing data at index position\n",
    "        Insertion takes O(1) time but find ing the node at the\n",
    "        insertion point take O(n) time.\n",
    "        \"\"\"\n",
    "        if index ==0:\n",
    "            self.add(data)\n",
    "        if index >0:\n",
    "            new = Node(data)\n",
    "            position = index\n",
    "            current = self.head\n",
    "            while position>1:\n",
    "                current = current.next_node\n",
    "                position -=1\n",
    "            prev_node = current\n",
    "            next_node = current.next_node\n",
    "            prev_node.next_node = new\n",
    "            new.next_node = next_node\n",
    "    def remove(self,key):\n",
    "        \"\"\"\n",
    "        Removes Node containing data that matches the key\n",
    "        Returns the node or none if key doesn't exist\n",
    "        Takes O(n) time\n",
    "        \n",
    "        \"\"\"\n",
    "        current = self.head\n",
    "        previous = None\n",
    "        found = False\n",
    "        \n",
    "        while current and not found:\n",
    "            if current.data==key and current is self.head:\n",
    "                found =True\n",
    "                self.head = current.next_node\n",
    "            elif current.data==key:\n",
    "                found =True\n",
    "                previous.next_node = current.next_node\n",
    "            else:\n",
    "                previous = current\n",
    "                current = current.next_node\n",
    "        return current\n",
    "        \n",
    "    def remove_at_index(self,index):\n",
    "        if index >=self.size():\n",
    "            raise IndexError('index out of range')\n",
    "        current = self.head\n",
    "        \n",
    "        if index==0:\n",
    "            self.head =current.next_node\n",
    "            return current\n",
    "            \n",
    "        position = index\n",
    "        while position>1:\n",
    "            print(current)\n",
    "            current = current.next_node\n",
    "            position -=1\n",
    "        #prev_node = current\n",
    "        del_node = current.next_node\n",
    "        next_node = del_node.next_node\n",
    "        current.next_node = next_node\n",
    "        \n",
    "        return current\n",
    "            \n",
    "    def node_at_index(self,index):\n",
    "        if index==0:\n",
    "            return self.head\n",
    "        else:\n",
    "            current = self.head\n",
    "            position=0\n",
    "            \n",
    "            while position < index:\n",
    "                print(current)\n",
    "                current = current.next_node\n",
    "                position +=1\n",
    "            return current\n",
    "            \n",
    "    def __repr__(self):\n",
    "        \"\"\"\n",
    "        Return a string representation of the list.\n",
    "        Takes O(n) time.\n",
    "        \"\"\"\n",
    "        nodes = []\n",
    "        current = self.head\n",
    "        while current:\n",
    "            if current is self.head:\n",
    "                nodes.append(\"[Head: %s]\" % current.data)\n",
    "            elif current.next_node is None:\n",
    "                nodes.append(\"[Tail: %s]\" % current.data)\n",
    "            else:\n",
    "                nodes.append(\"[%s]\" % current.data)\n",
    "            current = current.next_node\n",
    "        return  '-> '.join(nodes)\n",
    "    "
   ]
  },
  {
   "cell_type": "code",
   "execution_count": 53,
   "id": "de013982",
   "metadata": {},
   "outputs": [
    {
     "data": {
      "text/plain": [
       "<Node data: 10>"
      ]
     },
     "execution_count": 53,
     "metadata": {},
     "output_type": "execute_result"
    }
   ],
   "source": [
    "N1 = Node(10)\n",
    "N1"
   ]
  },
  {
   "cell_type": "code",
   "execution_count": 54,
   "id": "4acb315d",
   "metadata": {},
   "outputs": [],
   "source": [
    "N2 = Node(20)\n",
    "N1.next_node = N2"
   ]
  },
  {
   "cell_type": "code",
   "execution_count": 55,
   "id": "5505a662",
   "metadata": {},
   "outputs": [
    {
     "data": {
      "text/plain": [
       "<Node data: 20>"
      ]
     },
     "execution_count": 55,
     "metadata": {},
     "output_type": "execute_result"
    }
   ],
   "source": [
    "N1.next_node"
   ]
  },
  {
   "cell_type": "code",
   "execution_count": 56,
   "id": "0a57f467",
   "metadata": {},
   "outputs": [],
   "source": [
    "l = LinkedList()"
   ]
  },
  {
   "cell_type": "code",
   "execution_count": 57,
   "id": "541edbe7",
   "metadata": {},
   "outputs": [],
   "source": [
    "l.add(10)\n",
    "l.add(45)\n",
    "l.add(3)\n",
    "l.add(10)\n",
    "l.add(45)\n",
    "l.add(3)"
   ]
  },
  {
   "cell_type": "code",
   "execution_count": 58,
   "id": "1937f5e6",
   "metadata": {},
   "outputs": [
    {
     "data": {
      "text/plain": [
       "6"
      ]
     },
     "execution_count": 58,
     "metadata": {},
     "output_type": "execute_result"
    }
   ],
   "source": [
    "l.size()"
   ]
  },
  {
   "cell_type": "code",
   "execution_count": 59,
   "id": "8d62a4ae",
   "metadata": {},
   "outputs": [
    {
     "data": {
      "text/plain": [
       "[Head: 3]-> [45]-> [10]-> [3]-> [45]-> [Tail: 10]"
      ]
     },
     "execution_count": 59,
     "metadata": {},
     "output_type": "execute_result"
    }
   ],
   "source": [
    "l"
   ]
  },
  {
   "cell_type": "code",
   "execution_count": 60,
   "id": "06cfe630",
   "metadata": {},
   "outputs": [
    {
     "data": {
      "text/plain": [
       "<Node data: 10>"
      ]
     },
     "execution_count": 60,
     "metadata": {},
     "output_type": "execute_result"
    }
   ],
   "source": [
    "l.search(10)"
   ]
  },
  {
   "cell_type": "code",
   "execution_count": 61,
   "id": "23d9c909",
   "metadata": {},
   "outputs": [
    {
     "data": {
      "text/plain": [
       "[Head: 3]-> [45]-> [3]-> [45]-> [Tail: 10]"
      ]
     },
     "execution_count": 61,
     "metadata": {},
     "output_type": "execute_result"
    }
   ],
   "source": [
    "l.remove(10)\n",
    "l"
   ]
  },
  {
   "cell_type": "code",
   "execution_count": 243,
   "id": "097705cc",
   "metadata": {
    "scrolled": true
   },
   "outputs": [
    {
     "data": {
      "text/plain": [
       "[Head: 42]-> [3]-> [45]-> [3]-> [45]-> [Tail: 10]"
      ]
     },
     "execution_count": 243,
     "metadata": {},
     "output_type": "execute_result"
    }
   ],
   "source": [
    "l.insert(42,0)\n",
    "l"
   ]
  },
  {
   "cell_type": "code",
   "execution_count": 62,
   "id": "c7193ff7",
   "metadata": {},
   "outputs": [
    {
     "data": {
      "text/plain": [
       "[Head: 45]-> [3]-> [45]-> [Tail: 10]"
      ]
     },
     "execution_count": 62,
     "metadata": {},
     "output_type": "execute_result"
    }
   ],
   "source": [
    "l.remove_at_index(0)\n",
    "l"
   ]
  },
  {
   "cell_type": "code",
   "execution_count": 63,
   "id": "99fa3bd7",
   "metadata": {},
   "outputs": [
    {
     "data": {
      "text/plain": [
       "[Head: 45]-> [45]-> [Tail: 10]"
      ]
     },
     "execution_count": 63,
     "metadata": {},
     "output_type": "execute_result"
    }
   ],
   "source": [
    "l.remove_at_index(1)\n",
    "l"
   ]
  },
  {
   "cell_type": "code",
   "execution_count": 65,
   "id": "355ae587",
   "metadata": {},
   "outputs": [
    {
     "ename": "IndexError",
     "evalue": "index out of range",
     "output_type": "error",
     "traceback": [
      "\u001b[0;31m---------------------------------------------------------------------------\u001b[0m",
      "\u001b[0;31mIndexError\u001b[0m                                Traceback (most recent call last)",
      "\u001b[0;32m<ipython-input-65-783cc23558cc>\u001b[0m in \u001b[0;36m<module>\u001b[0;34m\u001b[0m\n\u001b[0;32m----> 1\u001b[0;31m \u001b[0ml\u001b[0m\u001b[0;34m.\u001b[0m\u001b[0mremove_at_index\u001b[0m\u001b[0;34m(\u001b[0m\u001b[0;36m3\u001b[0m\u001b[0;34m)\u001b[0m\u001b[0;34m\u001b[0m\u001b[0;34m\u001b[0m\u001b[0m\n\u001b[0m",
      "\u001b[0;32m<ipython-input-52-01246a164c83>\u001b[0m in \u001b[0;36mremove_at_index\u001b[0;34m(self, index)\u001b[0m\n\u001b[1;32m    106\u001b[0m     \u001b[0;32mdef\u001b[0m \u001b[0mremove_at_index\u001b[0m\u001b[0;34m(\u001b[0m\u001b[0mself\u001b[0m\u001b[0;34m,\u001b[0m\u001b[0mindex\u001b[0m\u001b[0;34m)\u001b[0m\u001b[0;34m:\u001b[0m\u001b[0;34m\u001b[0m\u001b[0;34m\u001b[0m\u001b[0m\n\u001b[1;32m    107\u001b[0m         \u001b[0;32mif\u001b[0m \u001b[0mindex\u001b[0m \u001b[0;34m>=\u001b[0m\u001b[0mself\u001b[0m\u001b[0;34m.\u001b[0m\u001b[0msize\u001b[0m\u001b[0;34m(\u001b[0m\u001b[0;34m)\u001b[0m\u001b[0;34m:\u001b[0m\u001b[0;34m\u001b[0m\u001b[0;34m\u001b[0m\u001b[0m\n\u001b[0;32m--> 108\u001b[0;31m             \u001b[0;32mraise\u001b[0m \u001b[0mIndexError\u001b[0m\u001b[0;34m(\u001b[0m\u001b[0;34m'index out of range'\u001b[0m\u001b[0;34m)\u001b[0m\u001b[0;34m\u001b[0m\u001b[0;34m\u001b[0m\u001b[0m\n\u001b[0m\u001b[1;32m    109\u001b[0m         \u001b[0mcurrent\u001b[0m \u001b[0;34m=\u001b[0m \u001b[0mself\u001b[0m\u001b[0;34m.\u001b[0m\u001b[0mhead\u001b[0m\u001b[0;34m\u001b[0m\u001b[0;34m\u001b[0m\u001b[0m\n\u001b[1;32m    110\u001b[0m \u001b[0;34m\u001b[0m\u001b[0m\n",
      "\u001b[0;31mIndexError\u001b[0m: index out of range"
     ]
    }
   ],
   "source": [
    "l.remove_at_index(3)"
   ]
  },
  {
   "cell_type": "code",
   "execution_count": null,
   "id": "c5b47fea",
   "metadata": {},
   "outputs": [],
   "source": []
  },
  {
   "cell_type": "code",
   "execution_count": null,
   "id": "42ac0d5b",
   "metadata": {},
   "outputs": [],
   "source": []
  },
  {
   "cell_type": "code",
   "execution_count": null,
   "id": "1c35c03b",
   "metadata": {},
   "outputs": [],
   "source": []
  },
  {
   "cell_type": "code",
   "execution_count": null,
   "id": "7a1f5c86",
   "metadata": {},
   "outputs": [],
   "source": []
  },
  {
   "cell_type": "code",
   "execution_count": 17,
   "id": "d269a13a",
   "metadata": {},
   "outputs": [],
   "source": [
    "class ListNode(object):\n",
    "    \n",
    "    def __init__(self, val=0, next=None):\n",
    "        self.val = val\n",
    "        self.next = next"
   ]
  },
  {
   "cell_type": "code",
   "execution_count": 24,
   "id": "8a749bfa",
   "metadata": {},
   "outputs": [],
   "source": [
    "l = ListNode(1)\n",
    "l2 = ListNode(2)\n",
    "l3 = ListNode(3)\n",
    "l4 = ListNode(4)"
   ]
  },
  {
   "cell_type": "code",
   "execution_count": 25,
   "id": "e3d6acff",
   "metadata": {},
   "outputs": [],
   "source": [
    "l.next = l2\n",
    "l2.next = l3\n",
    "l3.next = l4"
   ]
  },
  {
   "cell_type": "code",
   "execution_count": 31,
   "id": "52079cc0",
   "metadata": {},
   "outputs": [
    {
     "data": {
      "text/plain": [
       "3"
      ]
     },
     "execution_count": 31,
     "metadata": {},
     "output_type": "execute_result"
    }
   ],
   "source": [
    "l.next.next.val"
   ]
  },
  {
   "cell_type": "code",
   "execution_count": 15,
   "id": "35736e8c",
   "metadata": {},
   "outputs": [],
   "source": [
    "current = l"
   ]
  },
  {
   "cell_type": "code",
   "execution_count": 16,
   "id": "b54da716",
   "metadata": {},
   "outputs": [
    {
     "ename": "AttributeError",
     "evalue": "'LinkedList' object has no attribute 'next'",
     "output_type": "error",
     "traceback": [
      "\u001b[0;31m---------------------------------------------------------------------------\u001b[0m",
      "\u001b[0;31mAttributeError\u001b[0m                            Traceback (most recent call last)",
      "\u001b[0;32m<ipython-input-16-9cd9ef26fc38>\u001b[0m in \u001b[0;36m<module>\u001b[0;34m\u001b[0m\n\u001b[0;32m----> 1\u001b[0;31m \u001b[0mcurrent\u001b[0m\u001b[0;34m.\u001b[0m\u001b[0mnext\u001b[0m\u001b[0;34m\u001b[0m\u001b[0;34m\u001b[0m\u001b[0m\n\u001b[0m",
      "\u001b[0;31mAttributeError\u001b[0m: 'LinkedList' object has no attribute 'next'"
     ]
    }
   ],
   "source": [
    "current.next"
   ]
  },
  {
   "cell_type": "code",
   "execution_count": null,
   "id": "e416c606",
   "metadata": {},
   "outputs": [],
   "source": []
  }
 ],
 "metadata": {
  "kernelspec": {
   "display_name": "Python 3",
   "language": "python",
   "name": "python3"
  },
  "language_info": {
   "codemirror_mode": {
    "name": "ipython",
    "version": 3
   },
   "file_extension": ".py",
   "mimetype": "text/x-python",
   "name": "python",
   "nbconvert_exporter": "python",
   "pygments_lexer": "ipython3",
   "version": "3.6.13"
  }
 },
 "nbformat": 4,
 "nbformat_minor": 5
}
