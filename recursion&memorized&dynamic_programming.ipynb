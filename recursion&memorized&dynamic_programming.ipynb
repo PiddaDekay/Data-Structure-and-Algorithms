{
 "cells": [
  {
   "cell_type": "markdown",
   "id": "68335d88",
   "metadata": {},
   "source": [
    "straight subarray that sum equals to target given"
   ]
  },
  {
   "cell_type": "markdown",
   "id": "740386a5",
   "metadata": {},
   "source": [
    "i.e. [1,2,3,4,5], 5, output = [2,3]"
   ]
  },
  {
   "cell_type": "code",
   "execution_count": 68,
   "id": "27254ea7",
   "metadata": {},
   "outputs": [],
   "source": [
    "def subarray_sum1(nums, target):\n",
    "    for i in range(0,len(nums)-1):\n",
    "        for j in range(i,len(nums)+1):\n",
    "            if sum(nums[i:j])==target:\n",
    "                return nums[i:j]\n",
    "    return None\n",
    "        "
   ]
  },
  {
   "cell_type": "code",
   "execution_count": 69,
   "id": "0e2c86c1",
   "metadata": {},
   "outputs": [],
   "source": [
    "def subarray_sum2(nums, target):\n",
    "    for i in range(0,len(nums)):\n",
    "        sum_=nums[i]\n",
    "        for j in range(i+1,len(nums)+1):\n",
    "            if sum_==target:\n",
    "                return nums[i:j]\n",
    "            elif sum_<target:\n",
    "                sum_ = sum_+ nums[j]\n",
    "            else:\n",
    "                break\n",
    "    return None\n",
    "        "
   ]
  },
  {
   "cell_type": "code",
   "execution_count": 86,
   "id": "f1bdf217",
   "metadata": {},
   "outputs": [],
   "source": [
    "def subarray_sum3(nums, target):\n",
    "    i, j, s =0,0,0\n",
    "    while i < len(nums) and j< len(nums)+1:\n",
    "        if s ==target:\n",
    "            return nums[i:j]\n",
    "        elif s < target:\n",
    "            if j < len(nums):\n",
    "                s += nums[j]\n",
    "            j +=1\n",
    "        else:\n",
    "            s -=nums[i]\n",
    "            i+=1\n",
    "    return None"
   ]
  },
  {
   "cell_type": "code",
   "execution_count": null,
   "id": "3d4d1eb0",
   "metadata": {},
   "outputs": [],
   "source": [
    "a = [1,7,4,2,1,3,11,5]\n",
    "target = 10"
   ]
  },
  {
   "cell_type": "code",
   "execution_count": 105,
   "id": "12d66e78",
   "metadata": {},
   "outputs": [
    {
     "name": "stdout",
     "output_type": "stream",
     "text": [
      "CPU times: user 35 µs, sys: 1 µs, total: 36 µs\n",
      "Wall time: 40.3 µs\n"
     ]
    },
    {
     "data": {
      "text/plain": [
       "[11, 5]"
      ]
     },
     "execution_count": 105,
     "metadata": {},
     "output_type": "execute_result"
    }
   ],
   "source": [
    "%%time\n",
    "subarray_sum1(a,16)"
   ]
  },
  {
   "cell_type": "code",
   "execution_count": 106,
   "id": "f0de0bfe",
   "metadata": {},
   "outputs": [
    {
     "name": "stdout",
     "output_type": "stream",
     "text": [
      "CPU times: user 21 µs, sys: 2 µs, total: 23 µs\n",
      "Wall time: 27.2 µs\n"
     ]
    },
    {
     "data": {
      "text/plain": [
       "[11, 5]"
      ]
     },
     "execution_count": 106,
     "metadata": {},
     "output_type": "execute_result"
    }
   ],
   "source": [
    "%%time\n",
    "subarray_sum2(a,16)"
   ]
  },
  {
   "cell_type": "code",
   "execution_count": 107,
   "id": "8aab0b8b",
   "metadata": {},
   "outputs": [
    {
     "name": "stdout",
     "output_type": "stream",
     "text": [
      "CPU times: user 17 µs, sys: 1e+03 ns, total: 18 µs\n",
      "Wall time: 21 µs\n"
     ]
    },
    {
     "data": {
      "text/plain": [
       "[11, 5]"
      ]
     },
     "execution_count": 107,
     "metadata": {},
     "output_type": "execute_result"
    }
   ],
   "source": [
    "%%time\n",
    "subarray_sum3(a,16)"
   ]
  },
  {
   "cell_type": "markdown",
   "id": "0c0742c7",
   "metadata": {},
   "source": [
    "Given two strings A and B, find the minimum number of steps required to convert A to B"
   ]
  },
  {
   "cell_type": "markdown",
   "id": "39d06f9a",
   "metadata": {},
   "source": [
    "intention -> execution"
   ]
  },
  {
   "cell_type": "code",
   "execution_count": 110,
   "id": "8937fb2b",
   "metadata": {},
   "outputs": [],
   "source": [
    "#input\n",
    "str1 = \"intention\"\n",
    "str2 = \"execution\"\n",
    "\n",
    "#output\n",
    "output2 = 5"
   ]
  },
  {
   "cell_type": "code",
   "execution_count": 139,
   "id": "c92e6feb",
   "metadata": {},
   "outputs": [],
   "source": [
    "def min_steps(str1,str2,i1=0,i2=0):\n",
    "    if i1 == len(str1):\n",
    "        return len(str2)-i2\n",
    "    elif i2 ==len(str2):\n",
    "        return len(str1)-i1\n",
    "    elif str1[i1]==str2[i2]:\n",
    "        return min_steps(str1,str2,i1+1,i2+1)\n",
    "    else:\n",
    "        return 1 + min(min_steps(str1,str2,i1+1,i2),\n",
    "                      min_steps(str1,str2,i1+1,i2+1),\n",
    "                      min_steps(str1,str2,i1,i2+1))"
   ]
  },
  {
   "cell_type": "code",
   "execution_count": 140,
   "id": "5af4fa39",
   "metadata": {},
   "outputs": [],
   "source": [
    "def min_steps_memo(str1,str2):\n",
    "    memo = {}\n",
    "    def recurse(i1,i2):\n",
    "        key = (i1,i2)\n",
    "        if key in memo:\n",
    "            return memo[key]\n",
    "        elif i1 == len(str1):\n",
    "            memo[key]=len(str2)-i2\n",
    "        elif i2 == len(str2):\n",
    "            memo[key]=len(str1)-i1\n",
    "        elif str1[i1]==str2[i2]:\n",
    "            memo[key]=recurse(i1+1, i2+1)\n",
    "        else:\n",
    "            memo[key]=1+min(recurse(i1, i2+1), \n",
    "                            recurse(i1+1, i2), \n",
    "                            recurse(i1+1, i2+1))\n",
    "        return memo[key]\n",
    "    return recurse(0,0) "
   ]
  },
  {
   "cell_type": "code",
   "execution_count": 145,
   "id": "2f22b186",
   "metadata": {},
   "outputs": [],
   "source": [
    "def min_steps_dp(str1,str2):\n",
    "    l1,l2 = len(str1),len(str2)\n",
    "    table = [[0 for x in range(l2+1)] for x in range(l1+1)]\n",
    "    \n",
    "    for i in range(0,l1):\n",
    "        for j in range(0,l2):\n",
    "            if str1[i]==str2[j]:\n",
    "                table[i+1][j+1]=1 + table[i][j]\n",
    "            else:\n",
    "                table[i+1][j+1] = max(table[i][j+1],table[i+1][j])\n",
    "    return table[-1][-1]"
   ]
  },
  {
   "cell_type": "code",
   "execution_count": 146,
   "id": "8a47f564",
   "metadata": {},
   "outputs": [
    {
     "name": "stdout",
     "output_type": "stream",
     "text": [
      "CPU times: user 183 µs, sys: 0 ns, total: 183 µs\n",
      "Wall time: 189 µs\n"
     ]
    },
    {
     "data": {
      "text/plain": [
       "3"
      ]
     },
     "execution_count": 146,
     "metadata": {},
     "output_type": "execute_result"
    }
   ],
   "source": [
    "%%time\n",
    "min_steps(\"abcca\",\"baacc\")"
   ]
  },
  {
   "cell_type": "code",
   "execution_count": 147,
   "id": "524e7402",
   "metadata": {},
   "outputs": [
    {
     "name": "stdout",
     "output_type": "stream",
     "text": [
      "CPU times: user 64 µs, sys: 0 ns, total: 64 µs\n",
      "Wall time: 69.1 µs\n"
     ]
    },
    {
     "data": {
      "text/plain": [
       "3"
      ]
     },
     "execution_count": 147,
     "metadata": {},
     "output_type": "execute_result"
    }
   ],
   "source": [
    "%%time\n",
    "min_steps_memo(\"abcca\",\"baacc\")"
   ]
  },
  {
   "cell_type": "code",
   "execution_count": 148,
   "id": "f5cd2ba6",
   "metadata": {},
   "outputs": [
    {
     "name": "stdout",
     "output_type": "stream",
     "text": [
      "CPU times: user 49 µs, sys: 1e+03 ns, total: 50 µs\n",
      "Wall time: 53.6 µs\n"
     ]
    },
    {
     "data": {
      "text/plain": [
       "3"
      ]
     },
     "execution_count": 148,
     "metadata": {},
     "output_type": "execute_result"
    }
   ],
   "source": [
    "%%time\n",
    "min_steps_dp(\"abcca\",\"baacc\")"
   ]
  },
  {
   "cell_type": "code",
   "execution_count": 149,
   "id": "6e5f8e32",
   "metadata": {},
   "outputs": [
    {
     "data": {
      "text/plain": [
       "243"
      ]
     },
     "execution_count": 149,
     "metadata": {},
     "output_type": "execute_result"
    }
   ],
   "source": [
    "3**5"
   ]
  },
  {
   "cell_type": "code",
   "execution_count": null,
   "id": "20c56209",
   "metadata": {},
   "outputs": [],
   "source": []
  }
 ],
 "metadata": {
  "kernelspec": {
   "display_name": "Python 3",
   "language": "python",
   "name": "python3"
  },
  "language_info": {
   "codemirror_mode": {
    "name": "ipython",
    "version": 3
   },
   "file_extension": ".py",
   "mimetype": "text/x-python",
   "name": "python",
   "nbconvert_exporter": "python",
   "pygments_lexer": "ipython3",
   "version": "3.6.13"
  }
 },
 "nbformat": 4,
 "nbformat_minor": 5
}
