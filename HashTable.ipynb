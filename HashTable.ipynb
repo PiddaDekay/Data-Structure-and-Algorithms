{
 "cells": [
  {
   "cell_type": "markdown",
   "id": "960a52a3",
   "metadata": {},
   "source": [
    "HashTable"
   ]
  },
  {
   "cell_type": "code",
   "execution_count": 8,
   "id": "7857a63e",
   "metadata": {},
   "outputs": [],
   "source": [
    "def get_index(data_list, a_string):\n",
    "    # Variable to store the result (updated after each iteration)\n",
    "    result = 0\n",
    "    \n",
    "    for a_character in a_string:\n",
    "        # Convert the character to a number (using ord)\n",
    "        a_number = ord(a_character)\n",
    "        # Update result by adding the number\n",
    "        result += a_number\n",
    "    \n",
    "    # Take the remainder of the result with the size of the data list\n",
    "    list_index = result % len(data_list)\n",
    "    return list_index"
   ]
  },
  {
   "cell_type": "code",
   "execution_count": 9,
   "id": "e2cc399c",
   "metadata": {},
   "outputs": [],
   "source": [
    "class BasicHashTable:\n",
    "    def __init__(self, max_size=4096):\n",
    "        # 1. Create a list of size `max_size` with all values None\n",
    "        self.data_list = [None] * max_size\n",
    "     \n",
    "    \n",
    "    def insert(self, key, value):\n",
    "        # 1. Find the index for the key using get_index\n",
    "        idx = get_index(self.data_list, key)\n",
    "        \n",
    "        # 2. Store the key-value pair at the right index\n",
    "        self.data_list[idx] = key,value\n",
    "    \n",
    "    \n",
    "    def find(self, key):\n",
    "        # 1. Find the index for the key using get_index\n",
    "        idx = get_index(self.data_list, key)\n",
    "        \n",
    "        # 2. Retrieve the data stored at the index\n",
    "        kv = self.data_list[idx]\n",
    "        \n",
    "        # 3. Return the value if found, else return None\n",
    "        if kv is None:\n",
    "            return None\n",
    "        else:\n",
    "            key, value = kv\n",
    "            return value\n",
    "    \n",
    "    def update(self, key, value):\n",
    "        # 1. Find the index for the key using get_index\n",
    "        idx = get_index[self.data_list,key]\n",
    "        \n",
    "        # 2. Store the new key-value pair at the right index\n",
    "        self.data_list[idx] = key,value\n",
    "    \n",
    "    def list_all(self):\n",
    "        # 1. Extract the key from each key-value pair \n",
    "        return [kv[0] for kv in self.data_list if kv is not None]"
   ]
  },
  {
   "cell_type": "code",
   "execution_count": 10,
   "id": "690e4c43",
   "metadata": {},
   "outputs": [],
   "source": [
    "basic_table = BasicHashTable(max_size=1024)"
   ]
  },
  {
   "cell_type": "code",
   "execution_count": 11,
   "id": "d8618903",
   "metadata": {},
   "outputs": [
    {
     "data": {
      "text/plain": [
       "1024"
      ]
     },
     "execution_count": 11,
     "metadata": {},
     "output_type": "execute_result"
    }
   ],
   "source": [
    "len(basic_table.data_list)"
   ]
  },
  {
   "cell_type": "code",
   "execution_count": 12,
   "id": "5648e7fd",
   "metadata": {},
   "outputs": [],
   "source": [
    "basic_table.insert('Aakash','99999999')\n",
    "basic_table.insert('Hemanth','8888888')"
   ]
  },
  {
   "cell_type": "code",
   "execution_count": 15,
   "id": "f37a3750",
   "metadata": {},
   "outputs": [
    {
     "data": {
      "text/plain": [
       "True"
      ]
     },
     "execution_count": 15,
     "metadata": {},
     "output_type": "execute_result"
    }
   ],
   "source": [
    "basic_table.find('Hemanth')=='8888888'"
   ]
  },
  {
   "cell_type": "code",
   "execution_count": 16,
   "id": "cf3b95ed",
   "metadata": {},
   "outputs": [
    {
     "data": {
      "text/plain": [
       "['Aakash', 'Hemanth']"
      ]
     },
     "execution_count": 16,
     "metadata": {},
     "output_type": "execute_result"
    }
   ],
   "source": [
    "basic_table.list_all()"
   ]
  },
  {
   "cell_type": "code",
   "execution_count": null,
   "id": "23480e50",
   "metadata": {},
   "outputs": [],
   "source": []
  }
 ],
 "metadata": {
  "kernelspec": {
   "display_name": "Python 3",
   "language": "python",
   "name": "python3"
  },
  "language_info": {
   "codemirror_mode": {
    "name": "ipython",
    "version": 3
   },
   "file_extension": ".py",
   "mimetype": "text/x-python",
   "name": "python",
   "nbconvert_exporter": "python",
   "pygments_lexer": "ipython3",
   "version": "3.6.13"
  }
 },
 "nbformat": 4,
 "nbformat_minor": 5
}
