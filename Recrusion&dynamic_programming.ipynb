{
 "cells": [
  {
   "cell_type": "markdown",
   "id": "6570f3fa",
   "metadata": {},
   "source": [
    "basic recursion"
   ]
  },
  {
   "cell_type": "code",
   "execution_count": 10,
   "id": "9db8ffa1",
   "metadata": {},
   "outputs": [],
   "source": [
    "def lcs_recursive(seq1,seq2,index1=0,index2=0):\n",
    "    if index1 == len(seq1) or index2 == len(seq2):\n",
    "        return 0\n",
    "    elif seq1[index1]==seq2[index2]:\n",
    "        return 1 + lcs_recursive(seq1,seq2,index1+1,index2+1)\n",
    "    else:\n",
    "        option1 = lcs_recursive(seq1,seq2,index1+1,index2)\n",
    "        option2 = lcs_recursive(seq1,seq2,index1,index2+1)\n",
    "        return max(option1, option2)"
   ]
  },
  {
   "cell_type": "code",
   "execution_count": 11,
   "id": "d8de9d33",
   "metadata": {},
   "outputs": [],
   "source": [
    "a = 'serendipitous'\n",
    "b= 'precipitation'"
   ]
  },
  {
   "cell_type": "code",
   "execution_count": 13,
   "id": "5092f72e",
   "metadata": {},
   "outputs": [
    {
     "name": "stdout",
     "output_type": "stream",
     "text": [
      "CPU times: user 374 ms, sys: 3.25 ms, total: 378 ms\n",
      "Wall time: 377 ms\n"
     ]
    },
    {
     "data": {
      "text/plain": [
       "7"
      ]
     },
     "execution_count": 13,
     "metadata": {},
     "output_type": "execute_result"
    }
   ],
   "source": [
    "%%time\n",
    "lcs_recursive(a,b)"
   ]
  },
  {
   "cell_type": "markdown",
   "id": "edd743e8",
   "metadata": {},
   "source": [
    "memorized"
   ]
  },
  {
   "cell_type": "code",
   "execution_count": 19,
   "id": "d647e906",
   "metadata": {},
   "outputs": [],
   "source": [
    "def lcs_memo(seq1,seq2):\n",
    "    memo={}\n",
    "    def recurse(index1 = 0, index2=0):\n",
    "        key = (index1,index2)\n",
    "        if key in memo:\n",
    "            return memo[key]\n",
    "        elif index1 ==len(seq1) or index2 ==len(seq2):\n",
    "            memo[key]=0\n",
    "        elif seq1[index1]==seq2[index2]:\n",
    "            memo[key]=1+recurse(index1+1,index2+1)\n",
    "        else:\n",
    "            memo[key] = max(recurse(index1+1,index2),recurse(index1,index2+1))\n",
    "        return memo[key]\n",
    "    return recurse(0,0)"
   ]
  },
  {
   "cell_type": "code",
   "execution_count": 22,
   "id": "6656a14f",
   "metadata": {},
   "outputs": [
    {
     "name": "stdout",
     "output_type": "stream",
     "text": [
      "CPU times: user 347 µs, sys: 17 µs, total: 364 µs\n",
      "Wall time: 371 µs\n"
     ]
    },
    {
     "data": {
      "text/plain": [
       "7"
      ]
     },
     "execution_count": 22,
     "metadata": {},
     "output_type": "execute_result"
    }
   ],
   "source": [
    "%%time\n",
    "lcs_memo(a,b)"
   ]
  },
  {
   "cell_type": "markdown",
   "id": "2017c619",
   "metadata": {},
   "source": [
    "dynamic programming"
   ]
  },
  {
   "cell_type": "code",
   "execution_count": 33,
   "id": "b302aebb",
   "metadata": {},
   "outputs": [],
   "source": [
    "def lcs_dp(seq1,seq2):\n",
    "    l1,l2 = len(seq1),len(seq2)\n",
    "    table = [[0 for x in range(l2+1)] for x in range(l1+1)]\n",
    "    \n",
    "    for i in range(0,l1):\n",
    "        for j in range(0,l2):\n",
    "            if seq1[i]==seq2[j]:\n",
    "                table[i+1][j+1]=1 + table[i][j]\n",
    "            else:\n",
    "                table[i+1][j+1] = max(table[i][j+1],table[i+1][j])\n",
    "    return table[-1][-1]"
   ]
  },
  {
   "cell_type": "code",
   "execution_count": 34,
   "id": "964ca514",
   "metadata": {},
   "outputs": [
    {
     "name": "stdout",
     "output_type": "stream",
     "text": [
      "CPU times: user 206 µs, sys: 0 ns, total: 206 µs\n",
      "Wall time: 210 µs\n"
     ]
    },
    {
     "data": {
      "text/plain": [
       "7"
      ]
     },
     "execution_count": 34,
     "metadata": {},
     "output_type": "execute_result"
    }
   ],
   "source": [
    "%%time\n",
    "lcs_dp(a,b)"
   ]
  },
  {
   "cell_type": "code",
   "execution_count": null,
   "id": "c0c067cb",
   "metadata": {},
   "outputs": [],
   "source": []
  }
 ],
 "metadata": {
  "kernelspec": {
   "display_name": "Python 3",
   "language": "python",
   "name": "python3"
  },
  "language_info": {
   "codemirror_mode": {
    "name": "ipython",
    "version": 3
   },
   "file_extension": ".py",
   "mimetype": "text/x-python",
   "name": "python",
   "nbconvert_exporter": "python",
   "pygments_lexer": "ipython3",
   "version": "3.6.13"
  }
 },
 "nbformat": 4,
 "nbformat_minor": 5
}
