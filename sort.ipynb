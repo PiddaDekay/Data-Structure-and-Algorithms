{
 "cells": [
  {
   "cell_type": "code",
   "execution_count": 62,
   "id": "52064c10",
   "metadata": {},
   "outputs": [],
   "source": [
    "def bubble_sort(arr):\n",
    "    for i in range(0,len(arr)-1):\n",
    "        for j in range(i+1, len(arr)):\n",
    "            if arr[i]>=arr[j]:\n",
    "                temp = arr[j]\n",
    "                arr[j]=arr[i]\n",
    "                arr[i]=temp\n",
    "    return arr"
   ]
  },
  {
   "cell_type": "code",
   "execution_count": null,
   "id": "5494ce67",
   "metadata": {},
   "outputs": [],
   "source": [
    "a = [2,55,17,1,54,0,23]\n",
    "a"
   ]
  },
  {
   "cell_type": "code",
   "execution_count": null,
   "id": "04189bc8",
   "metadata": {},
   "outputs": [],
   "source": [
    "bubble_sort(a)"
   ]
  },
  {
   "cell_type": "code",
   "execution_count": 66,
   "id": "49e1fa53",
   "metadata": {},
   "outputs": [],
   "source": [
    "def select_sort(arr):\n",
    "    for i in range(len(arr)):\n",
    "        min = i\n",
    "        temp = arr[i]\n",
    "        for j in range(i+1,len(arr)):\n",
    "            if arr[j]<arr[min]:\n",
    "                min = j\n",
    "        arr[i]=arr[min]\n",
    "        arr[min] = temp\n",
    "    return arr"
   ]
  },
  {
   "cell_type": "code",
   "execution_count": null,
   "id": "3d908eb0",
   "metadata": {},
   "outputs": [],
   "source": [
    "a = [2,55,17,1,54,0,23]\n",
    "a"
   ]
  },
  {
   "cell_type": "code",
   "execution_count": null,
   "id": "307f81d8",
   "metadata": {},
   "outputs": [],
   "source": [
    "select_sort(a)"
   ]
  },
  {
   "cell_type": "code",
   "execution_count": 118,
   "id": "9cf1a590",
   "metadata": {},
   "outputs": [],
   "source": [
    "def insertion_sort(arr):\n",
    "    for i in range(1, len(arr)):\n",
    "        key = arr[i]\n",
    "        j = i-1\n",
    "        while j >=0 and key < arr[j]:\n",
    "            arr[j+1] = arr[j]\n",
    "            j -= 1\n",
    "        arr[j+1] = key\n",
    "    return arr"
   ]
  },
  {
   "cell_type": "code",
   "execution_count": 119,
   "id": "bc8337ae",
   "metadata": {},
   "outputs": [
    {
     "data": {
      "text/plain": [
       "[2, 55, 17, 1, 54, 0, 23]"
      ]
     },
     "execution_count": 119,
     "metadata": {},
     "output_type": "execute_result"
    }
   ],
   "source": [
    "a = [2,55,17,1,54,0,23]\n",
    "a"
   ]
  },
  {
   "cell_type": "code",
   "execution_count": 120,
   "id": "520d5a49",
   "metadata": {},
   "outputs": [
    {
     "data": {
      "text/plain": [
       "[0, 1, 2, 17, 23, 54, 55]"
      ]
     },
     "execution_count": 120,
     "metadata": {},
     "output_type": "execute_result"
    }
   ],
   "source": [
    "insertion_sort(a)"
   ]
  },
  {
   "cell_type": "code",
   "execution_count": 107,
   "id": "0f5cf753",
   "metadata": {},
   "outputs": [],
   "source": [
    "def merge_sort(arr):\n",
    "    if len(arr)==1:\n",
    "        return arr\n",
    "    mid = (0 + len(arr))//2\n",
    "    left = arr[:mid]\n",
    "    right = arr[mid:]\n",
    "    return merge(merge_sort(left),merge_sort(right))\n",
    "\n",
    "def merge(left,right):\n",
    "    left_index = 0\n",
    "    right_index = 0\n",
    "    sorted_value = []\n",
    "    while left_index<len(left) and right_index<len(right):\n",
    "        if left[left_index]<right[right_index]:\n",
    "            sorted_value.append(left[left_index])\n",
    "            left_index +=1\n",
    "        elif left[left_index]>right[right_index]:\n",
    "            sorted_value.append(right[right_index])\n",
    "            right_index +=1\n",
    "    sorted_value += left[left_index:]\n",
    "    sorted_value += right[right_index:]\n",
    "    return sorted_value"
   ]
  },
  {
   "cell_type": "code",
   "execution_count": 108,
   "id": "ee01fb25",
   "metadata": {},
   "outputs": [
    {
     "data": {
      "text/plain": [
       "[2, 55, 17, 1, 54, 0, 23]"
      ]
     },
     "execution_count": 108,
     "metadata": {},
     "output_type": "execute_result"
    }
   ],
   "source": [
    "a = [2,55,17,1,54,0,23]\n",
    "a"
   ]
  },
  {
   "cell_type": "code",
   "execution_count": 109,
   "id": "dbc8f7fa",
   "metadata": {},
   "outputs": [
    {
     "data": {
      "text/plain": [
       "[0, 1, 2, 17, 23, 54, 55]"
      ]
     },
     "execution_count": 109,
     "metadata": {},
     "output_type": "execute_result"
    }
   ],
   "source": [
    "merge_sort(a)"
   ]
  },
  {
   "cell_type": "code",
   "execution_count": 112,
   "id": "3aafbb01",
   "metadata": {},
   "outputs": [],
   "source": [
    "def quick_sort(values):\n",
    "    print(values)\n",
    "    if len(values)<=1:\n",
    "        return values\n",
    "    less_than_pivot =[]\n",
    "    greater_than_pivot=[]\n",
    "    pivot = values[0]\n",
    "    for value in values[1:]:\n",
    "        if value <= pivot:\n",
    "            less_than_pivot.append(value)\n",
    "        else:\n",
    "            greater_than_pivot.append(value)\n",
    "    return quick_sort(less_than_pivot)+[pivot]+quick_sort(greater_than_pivot)"
   ]
  },
  {
   "cell_type": "code",
   "execution_count": 113,
   "id": "c1c405e0",
   "metadata": {},
   "outputs": [
    {
     "data": {
      "text/plain": [
       "[2, 55, 17, 1, 54, 0, 23]"
      ]
     },
     "execution_count": 113,
     "metadata": {},
     "output_type": "execute_result"
    }
   ],
   "source": [
    "a = [2,55,17,1,54,0,23]\n",
    "a"
   ]
  },
  {
   "cell_type": "code",
   "execution_count": 114,
   "id": "6c8b024e",
   "metadata": {},
   "outputs": [
    {
     "name": "stdout",
     "output_type": "stream",
     "text": [
      "[2, 55, 17, 1, 54, 0, 23]\n",
      "[1, 0]\n",
      "[0]\n",
      "[]\n",
      "[55, 17, 54, 23]\n",
      "[17, 54, 23]\n",
      "[]\n",
      "[54, 23]\n",
      "[23]\n",
      "[]\n",
      "[]\n"
     ]
    },
    {
     "data": {
      "text/plain": [
       "[0, 1, 2, 17, 23, 54, 55]"
      ]
     },
     "execution_count": 114,
     "metadata": {},
     "output_type": "execute_result"
    }
   ],
   "source": [
    "quick_sort(a)"
   ]
  },
  {
   "cell_type": "code",
   "execution_count": null,
   "id": "2d5fff6b",
   "metadata": {},
   "outputs": [],
   "source": []
  }
 ],
 "metadata": {
  "kernelspec": {
   "display_name": "Python 3",
   "language": "python",
   "name": "python3"
  },
  "language_info": {
   "codemirror_mode": {
    "name": "ipython",
    "version": 3
   },
   "file_extension": ".py",
   "mimetype": "text/x-python",
   "name": "python",
   "nbconvert_exporter": "python",
   "pygments_lexer": "ipython3",
   "version": "3.6.13"
  }
 },
 "nbformat": 4,
 "nbformat_minor": 5
}
