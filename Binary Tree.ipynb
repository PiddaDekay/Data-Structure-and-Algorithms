{
 "cells": [
  {
   "cell_type": "code",
   "execution_count": 1,
   "id": "5a83097c",
   "metadata": {},
   "outputs": [],
   "source": [
    "class Node:\n",
    "    def __init__(self,value):\n",
    "        self.left = None\n",
    "        self.right = None\n",
    "        self.value = value"
   ]
  },
  {
   "cell_type": "code",
   "execution_count": 95,
   "id": "b97c34c3",
   "metadata": {},
   "outputs": [],
   "source": [
    "class BinarySearchTree:\n",
    "    def __init__(self):\n",
    "        self.root = None\n",
    "    \n",
    "    def insert(self,value):\n",
    "        newNode = Node(value)\n",
    "        if self.root==None:\n",
    "            self.root = newNode\n",
    "        else:\n",
    "            currentNode = self.root\n",
    "            while True:\n",
    "                \n",
    "                if value<currentNode.value:\n",
    "                    #left\n",
    "                    if currentNode.left==None:\n",
    "                        currentNode.left=newNode\n",
    "                        return self\n",
    "                    currentNode=currentNode.left\n",
    "                else:\n",
    "                    #right\n",
    "                    if currentNode.right==None:\n",
    "                        currentNode.right = newNode\n",
    "                        return self\n",
    "                    currentNode=currentNode.right\n",
    "    def lookup(self,value):\n",
    "        if self.root==None:\n",
    "            return False\n",
    "        currentNode = self.root\n",
    "        while currentNode:\n",
    "            if(value<currentNode.value):\n",
    "                currentNode = currentNode.left\n",
    "            elif value > currentNode.value:\n",
    "                currentNode = currentNode.right\n",
    "            else:\n",
    "                return currentNode\n",
    "        return False\n",
    "    \n",
    "    def remove(self,value):\n",
    "        if self.root ==None:\n",
    "            return False\n",
    "        currentNode = self.root\n",
    "        parentNode =None\n",
    "        while(currentNode):\n",
    "            if value<currentNode.value:\n",
    "                parentNode=currentNode\n",
    "                currentNode = currentNode.left\n",
    "            elif value>currentNode.value:\n",
    "                parentNode=currentNode\n",
    "                currentNode = currentNode.right\n",
    "            elif currentNode.value == value:\n",
    "                \n",
    "                if currentNode.right ==None:\n",
    "                    if parentNode==None:\n",
    "                        self.root = currentNode.left\n",
    "                    else:\n",
    "                        if currentNode.value<parentNode.value:\n",
    "                            parentNode.left = currentNode.left\n",
    "                        elif currentNode.value>parentNode.value:\n",
    "                            parentNode.right = currentNode.left\n",
    "                            \n",
    "                elif currentNode.right.left == None:\n",
    "                    currentNode.right.left=currentNode.left\n",
    "                    if parentNode==None:\n",
    "                        self.root = currentNode.left\n",
    "                    else:\n",
    "                        if currentNode.value<parentNode.value:\n",
    "                            parentNode.left = currentNode.right\n",
    "                        elif currentNode.value>parentNode.value:\n",
    "                            parentNode.right = currentNode.right\n",
    "                            \n",
    "                else:\n",
    "                    leftmost = currentNode.right.left\n",
    "                    leftmostParent = currentNode.right\n",
    "                    while leftmost.left!=None:\n",
    "                        leftmostParent = leftmost\n",
    "                        leftmost = leftmost.left\n",
    "                    leftmostParent.left = leftmost.right\n",
    "                    leftmost.left = currentNode.left\n",
    "                    leftmost.right = currentNode.right\n",
    "                    \n",
    "                    if parentNode ==None:\n",
    "                        self.root = leftmost\n",
    "                    else:\n",
    "                        if currentNode.value < parentNode.value:\n",
    "                            parentNode.left = leftmost\n",
    "                        elif currentNode.value>parentNode.value:\n",
    "                            parentNode.right = leftmost\n",
    "                return True\n",
    "    def breadthfirstsearch(self):\n",
    "        currentNode = self.root\n",
    "        l = []\n",
    "        queue = []\n",
    "        queue.append(currentNode)\n",
    "        while queue:\n",
    "            currentNode = queue.pop(0)\n",
    "            l.append(currentNode.value)\n",
    "            if currentNode.left!=None:\n",
    "                queue.append(currentNode.left)\n",
    "            if currentNode.right!=None:\n",
    "                queue.append(currentNode.right)\n",
    "        return l\n",
    "    def breadthfirstsearchR(self,queue,l):\n",
    "        if len(queue)==0:\n",
    "            return l\n",
    "        currentNode = queue.pop(0)\n",
    "        l.append(currentNode.value)\n",
    "        if currentNode.left!=None:\n",
    "            queue.append(currentNode.left)\n",
    "        if currentNode.right!=None:\n",
    "            queue.append(currentNode.right)\n",
    "        return self.breadthfirstsearchR(queue,l)\n",
    "   \n",
    "    def DFSInorder(self):\n",
    "        return traverseInorder(self.root,[])\n",
    "    def DFSPostorder(self):\n",
    "        return traversePostorder(self.root,[])\n",
    "    def DFSPreorder(self):\n",
    "        return traversePreorder(self.root,[])\n",
    "    \n",
    "def traverseInorder(node,l):\n",
    "    if node.left:\n",
    "        traverseInorder(node.left,l)\n",
    "    l.append(node.value)\n",
    "    if node.right:\n",
    "        traverseInorder(node.right,l)\n",
    "    return l\n",
    "def traversePostorder(node,l):\n",
    "    if node.left:\n",
    "        traversePostorder(node.left,l)\n",
    "    if node.right:\n",
    "        traversePostorder(node.right,l)\n",
    "    l.append(node.value)\n",
    "    return l\n",
    "def traversePreorder(node,l):\n",
    "    l.append(node.value)\n",
    "    if node.left:\n",
    "        traversePreorder(node.left,l)\n",
    "    if node.right:\n",
    "        traversePreorder(node.right,l)\n",
    "    return l"
   ]
  },
  {
   "cell_type": "code",
   "execution_count": 96,
   "id": "e7dc8cee",
   "metadata": {},
   "outputs": [],
   "source": [
    "tree = BinarySearchTree()"
   ]
  },
  {
   "cell_type": "code",
   "execution_count": 97,
   "id": "e6914c7b",
   "metadata": {},
   "outputs": [
    {
     "data": {
      "text/plain": [
       "<__main__.BinarySearchTree at 0x7fb690081cc0>"
      ]
     },
     "execution_count": 97,
     "metadata": {},
     "output_type": "execute_result"
    }
   ],
   "source": [
    "tree.insert(9)\n",
    "tree.insert(4)\n",
    "tree.insert(6)\n",
    "tree.insert(20)\n",
    "tree.insert(170)\n",
    "tree.insert(15)\n",
    "tree.insert(1)"
   ]
  },
  {
   "cell_type": "code",
   "execution_count": 98,
   "id": "78160e45",
   "metadata": {},
   "outputs": [],
   "source": [
    "#        9\n",
    "#    4         20\n",
    "# 1     6  15     170"
   ]
  },
  {
   "cell_type": "code",
   "execution_count": 99,
   "id": "7747c9c8",
   "metadata": {},
   "outputs": [
    {
     "data": {
      "text/plain": [
       "[9, 4, 20, 1, 6, 15, 170]"
      ]
     },
     "execution_count": 99,
     "metadata": {},
     "output_type": "execute_result"
    }
   ],
   "source": [
    "tree.breadthfirstsearch()"
   ]
  },
  {
   "cell_type": "code",
   "execution_count": 100,
   "id": "ead7560b",
   "metadata": {},
   "outputs": [
    {
     "data": {
      "text/plain": [
       "[9, 4, 20, 1, 6, 15, 170]"
      ]
     },
     "execution_count": 100,
     "metadata": {},
     "output_type": "execute_result"
    }
   ],
   "source": [
    "tree.breadthfirstsearchR([tree.root],[])"
   ]
  },
  {
   "cell_type": "code",
   "execution_count": 101,
   "id": "0833a9af",
   "metadata": {},
   "outputs": [
    {
     "data": {
      "text/plain": [
       "[1, 4, 6, 9, 15, 20, 170]"
      ]
     },
     "execution_count": 101,
     "metadata": {},
     "output_type": "execute_result"
    }
   ],
   "source": [
    "tree.DFSInorder()"
   ]
  },
  {
   "cell_type": "code",
   "execution_count": 102,
   "id": "32a32e90",
   "metadata": {},
   "outputs": [
    {
     "data": {
      "text/plain": [
       "[1, 6, 4, 15, 170, 20, 9]"
      ]
     },
     "execution_count": 102,
     "metadata": {},
     "output_type": "execute_result"
    }
   ],
   "source": [
    "tree.DFSPostorder()"
   ]
  },
  {
   "cell_type": "code",
   "execution_count": 103,
   "id": "f4c6f510",
   "metadata": {},
   "outputs": [
    {
     "data": {
      "text/plain": [
       "[9, 4, 1, 6, 20, 15, 170]"
      ]
     },
     "execution_count": 103,
     "metadata": {},
     "output_type": "execute_result"
    }
   ],
   "source": [
    "tree.DFSPreorder()"
   ]
  },
  {
   "cell_type": "code",
   "execution_count": null,
   "id": "c154bb0c",
   "metadata": {},
   "outputs": [],
   "source": []
  },
  {
   "cell_type": "code",
   "execution_count": null,
   "id": "3d581ef8",
   "metadata": {},
   "outputs": [],
   "source": []
  }
 ],
 "metadata": {
  "kernelspec": {
   "display_name": "Python 3",
   "language": "python",
   "name": "python3"
  },
  "language_info": {
   "codemirror_mode": {
    "name": "ipython",
    "version": 3
   },
   "file_extension": ".py",
   "mimetype": "text/x-python",
   "name": "python",
   "nbconvert_exporter": "python",
   "pygments_lexer": "ipython3",
   "version": "3.6.13"
  }
 },
 "nbformat": 4,
 "nbformat_minor": 5
}
