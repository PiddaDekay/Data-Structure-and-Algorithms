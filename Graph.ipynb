{
 "cells": [
  {
   "cell_type": "markdown",
   "id": "26404be2",
   "metadata": {},
   "source": [
    "Graph:"
   ]
  },
  {
   "cell_type": "code",
   "execution_count": 33,
   "id": "e8ae33f7",
   "metadata": {},
   "outputs": [],
   "source": [
    "class Graph:\n",
    "    def __init__(self,num_nodes,edges):\n",
    "        self.num_nodes=num_nodes\n",
    "        self.data = [[] for _ in range(num_nodes)]\n",
    "        for n1,n2 in edges:\n",
    "            self.data[n1].append(n2)\n",
    "            self.data[n2].append(n1)\n",
    "    def __repr__(self):\n",
    "        return \"\\n\".join([\"{}: {}\".format(n, neighbors) for n, neighbors in enumerate(self.data)])\n",
    "    def __str__(self):\n",
    "        return self.__repr__()"
   ]
  },
  {
   "cell_type": "code",
   "execution_count": null,
   "id": "5280e8a6",
   "metadata": {},
   "outputs": [],
   "source": [
    "num_nodes = 5\n",
    "edges = [(0, 1), (0, 4), (1, 2), (1, 3), (1, 4), (2, 3), (3, 4)]\n",
    "num_nodes, len(edges)"
   ]
  },
  {
   "cell_type": "code",
   "execution_count": 34,
   "id": "955faff0",
   "metadata": {},
   "outputs": [],
   "source": [
    "graph1 = Graph(num_nodes,edges)"
   ]
  },
  {
   "cell_type": "code",
   "execution_count": 36,
   "id": "1bb46e51",
   "metadata": {},
   "outputs": [
    {
     "name": "stdout",
     "output_type": "stream",
     "text": [
      "0: [1, 4]\n",
      "1: [0, 2, 3, 4]\n",
      "2: [1, 3]\n",
      "3: [1, 2, 4]\n",
      "4: [0, 1, 3]\n"
     ]
    }
   ],
   "source": [
    "print(graph1)"
   ]
  },
  {
   "cell_type": "code",
   "execution_count": 26,
   "id": "799c32d6",
   "metadata": {},
   "outputs": [
    {
     "data": {
      "text/plain": [
       "['0: [1, 4]', '1: [0, 2, 3, 4]', '2: [1, 3]', '3: [1, 2, 4]', '4: [0, 1, 3]']"
      ]
     },
     "execution_count": 26,
     "metadata": {},
     "output_type": "execute_result"
    }
   ],
   "source": [
    "[\"{}: {}\".format(n, neighbors) for n, neighbors in enumerate(graph1.data)]"
   ]
  },
  {
   "cell_type": "markdown",
   "id": "08addeb6",
   "metadata": {},
   "source": [
    "Breadth search first"
   ]
  },
  {
   "cell_type": "code",
   "execution_count": 97,
   "id": "68b75f71",
   "metadata": {},
   "outputs": [],
   "source": [
    "def bfs(graph,root):\n",
    "    queue=[]\n",
    "    discovered = [False]* len(graph.data)   \n",
    "    distance = [None]*len(graph.data)\n",
    "    parent = [None]* len(graph.data)\n",
    "    discovered[root]=True\n",
    "    queue.append(root)   \n",
    "    distance[root]=0\n",
    "    index = 0\n",
    "    current = root\n",
    "    while index < len(queue):\n",
    "        current = queue[index]\n",
    "        index +=1\n",
    "        for node in graph.data[current]:\n",
    "            if  discovered[node]==False:\n",
    "                distance[node] = 1 + distance[current]\n",
    "                parent[node]=current\n",
    "                discovered[node]=True\n",
    "                queue.append(node)\n",
    "                \n",
    "    return queue , distance, parent"
   ]
  },
  {
   "cell_type": "code",
   "execution_count": 172,
   "id": "a2b1901f",
   "metadata": {},
   "outputs": [],
   "source": [
    "image = [[1,1,1],[1,1,0],[1,0,1]]"
   ]
  },
  {
   "cell_type": "code",
   "execution_count": 175,
   "id": "7393818d",
   "metadata": {},
   "outputs": [
    {
     "data": {
      "text/plain": [
       "0"
      ]
     },
     "execution_count": 175,
     "metadata": {},
     "output_type": "execute_result"
    }
   ],
   "source": [
    "queue=[0,2,3]\n",
    "queue.pop(0)"
   ]
  },
  {
   "cell_type": "code",
   "execution_count": 174,
   "id": "c5ac190a",
   "metadata": {},
   "outputs": [
    {
     "data": {
      "text/plain": [
       "3"
      ]
     },
     "execution_count": 174,
     "metadata": {},
     "output_type": "execute_result"
    }
   ],
   "source": [
    "len(image[0])"
   ]
  },
  {
   "cell_type": "code",
   "execution_count": 171,
   "id": "9960d24f",
   "metadata": {},
   "outputs": [
    {
     "name": "stdout",
     "output_type": "stream",
     "text": [
      "1 2\n",
      "2 3\n"
     ]
    }
   ],
   "source": [
    "for n,m in [[1,2],[2,3]]:\n",
    "    print(n,m)"
   ]
  },
  {
   "cell_type": "code",
   "execution_count": 98,
   "id": "e0b3ad92",
   "metadata": {},
   "outputs": [
    {
     "data": {
      "text/plain": [
       "0: [1, 4]\n",
       "1: [0, 2, 3, 4]\n",
       "2: [1, 3]\n",
       "3: [1, 2, 4]\n",
       "4: [0, 1, 3]"
      ]
     },
     "execution_count": 98,
     "metadata": {},
     "output_type": "execute_result"
    }
   ],
   "source": [
    "graph1"
   ]
  },
  {
   "cell_type": "code",
   "execution_count": 99,
   "id": "a5000a7e",
   "metadata": {},
   "outputs": [
    {
     "data": {
      "text/plain": [
       "([3, 1, 2, 4, 0], [2, 1, 1, 0, 1], [1, 3, 3, None, 3])"
      ]
     },
     "execution_count": 99,
     "metadata": {},
     "output_type": "execute_result"
    }
   ],
   "source": [
    "bfs(graph1,3)"
   ]
  },
  {
   "cell_type": "markdown",
   "id": "64272301",
   "metadata": {},
   "source": [
    "depth search first"
   ]
  },
  {
   "cell_type": "code",
   "execution_count": 110,
   "id": "9ac4669d",
   "metadata": {},
   "outputs": [],
   "source": [
    "def dfs(graph, root):\n",
    "    stack=[]\n",
    "    discovered = [False] * len(graph.data)\n",
    "    distance = [None]*len(graph.data)\n",
    "    parent = [None]* len(graph.data)\n",
    "    result = []\n",
    "    distance[root]=0\n",
    "    stack.append(root)\n",
    "    \n",
    "    while len(stack) >0:\n",
    "        current = stack.pop()\n",
    "        if not discovered[current]:\n",
    "            discovered[current]=True\n",
    "            result.append(current)\n",
    "            for node in graph.data[current]:\n",
    "                distance[node] = 1 + distance[current]\n",
    "                parent[node]=current\n",
    "                stack.append(node)      \n",
    "    return result,distance,parent"
   ]
  },
  {
   "cell_type": "code",
   "execution_count": 111,
   "id": "f8a7d067",
   "metadata": {},
   "outputs": [
    {
     "data": {
      "text/plain": [
       "([3, 4, 1, 2, 0], [3, 4, 3, 4, 4], [1, 0, 1, 2, 0])"
      ]
     },
     "execution_count": 111,
     "metadata": {},
     "output_type": "execute_result"
    }
   ],
   "source": [
    "dfs(graph1,3)"
   ]
  },
  {
   "cell_type": "markdown",
   "id": "79ea2a18",
   "metadata": {},
   "source": [
    "weighted or directed graph"
   ]
  },
  {
   "cell_type": "code",
   "execution_count": 143,
   "id": "e2372a18",
   "metadata": {},
   "outputs": [],
   "source": [
    "class WD_Graph:\n",
    "    def __init__(self,num_nodes,edges,directed=False,weighted=False):\n",
    "        self.num_nodes = num_nodes\n",
    "        self.directed = directed\n",
    "        self.weighted = weighted\n",
    "        self.data = [[]for _ in range(num_nodes)]\n",
    "        self.weight = [[]for _ in range(num_nodes)]\n",
    "        for edge in edges:\n",
    "            if self.weighted:\n",
    "                node1, node2, weight = edge\n",
    "                self.data[node1].append(node2)\n",
    "                self.weight[node1].append(weight)\n",
    "                if not directed:\n",
    "                    self.data[node2].append(node1)\n",
    "                    self.weight[node2].append(weight)\n",
    "            else:\n",
    "                node1, node2 =edge\n",
    "                self.data[node1].append(node2)\n",
    "                if not directed:\n",
    "                    self.data[node2].append(node1)    \n",
    "                    \n",
    "    def __repr__(self):\n",
    "        \n",
    "        result = \"\"\n",
    "        if self.weighted:\n",
    "            for i,(node,weights) in enumerate(zip(self.data,self.weight)):\n",
    "                result +=\"{} : {}\\n\".format(i,list(zip(node,weights)))\n",
    "        else:\n",
    "            for i, node in enumerate(self.data):\n",
    "                result +=\"{} : {}\\n\".format(i,node)\n",
    "        return result"
   ]
  },
  {
   "cell_type": "code",
   "execution_count": 144,
   "id": "af0fbb32",
   "metadata": {},
   "outputs": [
    {
     "data": {
      "text/plain": [
       "(9, 10)"
      ]
     },
     "execution_count": 144,
     "metadata": {},
     "output_type": "execute_result"
    }
   ],
   "source": [
    "num_nodes_w = 9\n",
    "edges_w = [(0, 1, 3), (0, 3, 2), (0, 8, 4), (1, 7, 4), (2, 7, 2), (2, 3, 6), \n",
    "          (2, 5, 1), (3, 4, 1), (4, 8, 8), (5, 6, 8)]\n",
    "\n",
    "num_nodes_w, len(edges_w)"
   ]
  },
  {
   "cell_type": "code",
   "execution_count": 145,
   "id": "a47af1c6",
   "metadata": {},
   "outputs": [
    {
     "data": {
      "text/plain": [
       "0 : [(1, 3), (3, 2), (8, 4)]\n",
       "1 : [(0, 3), (7, 4)]\n",
       "2 : [(7, 2), (3, 6), (5, 1)]\n",
       "3 : [(0, 2), (2, 6), (4, 1)]\n",
       "4 : [(3, 1), (8, 8)]\n",
       "5 : [(2, 1), (6, 8)]\n",
       "6 : [(5, 8)]\n",
       "7 : [(1, 4), (2, 2)]\n",
       "8 : [(0, 4), (4, 8)]"
      ]
     },
     "execution_count": 145,
     "metadata": {},
     "output_type": "execute_result"
    }
   ],
   "source": [
    "WD_Graph(num_nodes_w,edges_w,weighted=True)"
   ]
  },
  {
   "cell_type": "code",
   "execution_count": 146,
   "id": "8b5babdd",
   "metadata": {},
   "outputs": [
    {
     "data": {
      "text/plain": [
       "(5, 6)"
      ]
     },
     "execution_count": 146,
     "metadata": {},
     "output_type": "execute_result"
    }
   ],
   "source": [
    "num_nodes_d = 5\n",
    "edges_d = [(0, 1), (1, 2), (2, 3), (2, 4), (4, 2), (3, 0)]\n",
    "num_nodes_d, len(edges_d)"
   ]
  },
  {
   "cell_type": "code",
   "execution_count": 147,
   "id": "2d116cea",
   "metadata": {},
   "outputs": [
    {
     "data": {
      "text/plain": [
       "0 : [1]\n",
       "1 : [2]\n",
       "2 : [3, 4]\n",
       "3 : [0]\n",
       "4 : [2]"
      ]
     },
     "execution_count": 147,
     "metadata": {},
     "output_type": "execute_result"
    }
   ],
   "source": [
    "WD_Graph(num_nodes_d,edges_d,directed=True)"
   ]
  },
  {
   "cell_type": "markdown",
   "id": "02b98424",
   "metadata": {},
   "source": [
    "shortest paths"
   ]
  },
  {
   "cell_type": "code",
   "execution_count": 161,
   "id": "9fd037c8",
   "metadata": {},
   "outputs": [],
   "source": [
    "def shortest_path(graph,source,target):\n",
    "    visited = [False] * len(graph.data)\n",
    "    distance = [float('inf')]* len(graph.data)\n",
    "    queue = []\n",
    "    \n",
    "    parent = [None] * len(graph.data)\n",
    "    \n",
    "    distance[source]=0\n",
    "    queue.append(source)\n",
    "    index = 0\n",
    "    \n",
    "    while index<len(queue) and not visited[target]:\n",
    "        current = queue[index]\n",
    "        visited[current]=True\n",
    "        index +=1\n",
    "        update_distances(graph,current,distance,parent)\n",
    "        next_node = pick_next_node(distance,visited)\n",
    "        if next_node:\n",
    "            queue.append(next_node)\n",
    "    return distance[target],parent,queue"
   ]
  },
  {
   "cell_type": "code",
   "execution_count": 162,
   "id": "60effd28",
   "metadata": {},
   "outputs": [],
   "source": [
    "def update_distances(graph, current, distance, parent=None):\n",
    "    \"\"\"Update the distances of the current node's neighbors\"\"\"\n",
    "    neighbors = graph.data[current]\n",
    "    weights = graph.weight[current]\n",
    "    for i, node in enumerate(neighbors):\n",
    "        weight = weights[i]\n",
    "        if distance[current] + weight < distance[node]:\n",
    "            distance[node] = distance[current] + weight\n",
    "            if parent:\n",
    "                parent[node] = current\n",
    "\n",
    "def pick_next_node(distance, visited):\n",
    "    \"\"\"Pick the next univisited node at the smallest distance\"\"\"\n",
    "    min_distance = float('inf')\n",
    "    min_node = None\n",
    "    for node in range(len(distance)):\n",
    "        if not visited[node] and distance[node] < min_distance:\n",
    "            min_node = node\n",
    "            min_distance = distance[node]\n",
    "    return min_node"
   ]
  },
  {
   "cell_type": "code",
   "execution_count": 163,
   "id": "9aaba682",
   "metadata": {},
   "outputs": [
    {
     "data": {
      "text/plain": [
       "(6, 7)"
      ]
     },
     "execution_count": 163,
     "metadata": {},
     "output_type": "execute_result"
    }
   ],
   "source": [
    "num_nodes7 = 6\n",
    "edges7 = [(0, 1, 4), (0, 2, 2), (1, 2, 5), (1, 3, 10), (2, 4, 3), (4, 3, 4), (3, 5, 11)]\n",
    "num_nodes7, len(edges7)"
   ]
  },
  {
   "cell_type": "code",
   "execution_count": 164,
   "id": "5910586c",
   "metadata": {},
   "outputs": [],
   "source": [
    "g = WD_Graph(num_nodes7,edges7,weighted=True,directed=True)"
   ]
  },
  {
   "cell_type": "code",
   "execution_count": 165,
   "id": "54ed21f9",
   "metadata": {},
   "outputs": [
    {
     "data": {
      "text/plain": [
       "(20, [None, 0, 0, 4, 2, 3], [0, 2, 1, 4, 3, 5])"
      ]
     },
     "execution_count": 165,
     "metadata": {},
     "output_type": "execute_result"
    }
   ],
   "source": [
    "shortest_path(g,0,5)"
   ]
  },
  {
   "cell_type": "code",
   "execution_count": 166,
   "id": "66f09161",
   "metadata": {},
   "outputs": [
    {
     "data": {
      "text/plain": [
       "(9, 10)"
      ]
     },
     "execution_count": 166,
     "metadata": {},
     "output_type": "execute_result"
    }
   ],
   "source": [
    "num_nodes5 = 9\n",
    "edges5 = [(0, 1, 3), (0, 3, 2), (0, 8, 4), (1, 7, 4), (2, 7, 2), (2, 3, 6), \n",
    "          (2, 5, 1), (3, 4, 1), (4, 8, 8), (5, 6, 8)]\n",
    "\n",
    "num_nodes5, len(edges5)"
   ]
  },
  {
   "cell_type": "code",
   "execution_count": 167,
   "id": "6ac0d956",
   "metadata": {},
   "outputs": [],
   "source": [
    "g2 = WD_Graph(num_nodes5,edges5,weighted=True)"
   ]
  },
  {
   "cell_type": "code",
   "execution_count": 168,
   "id": "8c8d1e82",
   "metadata": {},
   "outputs": [
    {
     "data": {
      "text/plain": [
       "(7, [None, 0, 3, 0, 3, None, None, 1, 0], [0, 3, 1, 4, 8, 7, 2])"
      ]
     },
     "execution_count": 168,
     "metadata": {},
     "output_type": "execute_result"
    }
   ],
   "source": [
    "shortest_path(g2,0,7)"
   ]
  },
  {
   "cell_type": "code",
   "execution_count": null,
   "id": "f742724b",
   "metadata": {},
   "outputs": [],
   "source": []
  }
 ],
 "metadata": {
  "kernelspec": {
   "display_name": "Python 3",
   "language": "python",
   "name": "python3"
  },
  "language_info": {
   "codemirror_mode": {
    "name": "ipython",
    "version": 3
   },
   "file_extension": ".py",
   "mimetype": "text/x-python",
   "name": "python",
   "nbconvert_exporter": "python",
   "pygments_lexer": "ipython3",
   "version": "3.6.13"
  }
 },
 "nbformat": 4,
 "nbformat_minor": 5
}
