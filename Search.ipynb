{
 "cells": [
  {
   "cell_type": "markdown",
   "metadata": {},
   "source": [
    "Linear search"
   ]
  },
  {
   "cell_type": "code",
   "execution_count": 7,
   "metadata": {},
   "outputs": [],
   "source": [
    "def linear_search(list,target):\n",
    "    \"\"\"\n",
    "    Returns the index position of the target it found, else returns None\n",
    "    \"\"\"\n",
    "    for i in range(0,len(list)):\n",
    "        if list[i] == target:\n",
    "            return i\n",
    "    return None"
   ]
  },
  {
   "cell_type": "code",
   "execution_count": 8,
   "metadata": {},
   "outputs": [],
   "source": [
    "def verify(index):\n",
    "    if index is not None:\n",
    "        print(\"Target found at index: \", index)\n",
    "    else:\n",
    "        print(\"Target not found in list\")"
   ]
  },
  {
   "cell_type": "code",
   "execution_count": 9,
   "metadata": {},
   "outputs": [],
   "source": [
    "numbers = [1,2,3,4,5,6,7,8,9,10]"
   ]
  },
  {
   "cell_type": "code",
   "execution_count": 10,
   "metadata": {},
   "outputs": [
    {
     "name": "stdout",
     "output_type": "stream",
     "text": [
      "Target not found in list\n"
     ]
    }
   ],
   "source": [
    "result = linear_search(numbers,12)\n",
    "verify(result)"
   ]
  },
  {
   "cell_type": "code",
   "execution_count": 11,
   "metadata": {},
   "outputs": [
    {
     "name": "stdout",
     "output_type": "stream",
     "text": [
      "Target found at index:  5\n"
     ]
    }
   ],
   "source": [
    "result = linear_search(numbers,6)\n",
    "verify(result)"
   ]
  },
  {
   "cell_type": "markdown",
   "metadata": {},
   "source": []
  },
  {
   "cell_type": "markdown",
   "metadata": {},
   "source": [
    "Binary search"
   ]
  },
  {
   "cell_type": "code",
   "execution_count": 15,
   "metadata": {},
   "outputs": [],
   "source": [
    "def binary_search(list,target):\n",
    "    first=0\n",
    "    last = len(list)-1\n",
    "    \n",
    "    while first<=last:\n",
    "        midpoint=(first+last)//2\n",
    "        \n",
    "        if list[midpoint]==target:\n",
    "            return midpoint\n",
    "        elif list[midpoint]< target:\n",
    "            first = midpoint+1\n",
    "        else:\n",
    "            last = midpoint-1\n",
    "            \n",
    "    return None"
   ]
  },
  {
   "cell_type": "code",
   "execution_count": 18,
   "metadata": {},
   "outputs": [
    {
     "data": {
      "text/plain": [
       "[1, 2, 3, 4, 5, 6, 7, 8, 9, 10]"
      ]
     },
     "execution_count": 18,
     "metadata": {},
     "output_type": "execute_result"
    }
   ],
   "source": [
    "numbers"
   ]
  },
  {
   "cell_type": "code",
   "execution_count": 16,
   "metadata": {},
   "outputs": [
    {
     "name": "stdout",
     "output_type": "stream",
     "text": [
      "Target not found in list\n"
     ]
    }
   ],
   "source": [
    "result = binary_search(numbers,12)\n",
    "verify(result)"
   ]
  },
  {
   "cell_type": "code",
   "execution_count": 19,
   "metadata": {},
   "outputs": [
    {
     "name": "stdout",
     "output_type": "stream",
     "text": [
      "Target found at index:  0\n"
     ]
    }
   ],
   "source": [
    "result = binary_search(numbers,1)\n",
    "verify(result)"
   ]
  },
  {
   "cell_type": "markdown",
   "metadata": {},
   "source": [
    "Recursive_binary_search"
   ]
  },
  {
   "cell_type": "code",
   "execution_count": 21,
   "metadata": {},
   "outputs": [],
   "source": [
    "def recursive_binary_search(list,target):\n",
    "    if len(list)==0:\n",
    "        return False\n",
    "    else:\n",
    "        midpoint=(len(list))//2\n",
    "        if list[midpoint]==target:\n",
    "            return True\n",
    "        else:\n",
    "            if list[midpoint]< target:\n",
    "                return recursive_binary_search(list[midpoint+1:],target)\n",
    "            else:\n",
    "                return recursive_binary_search(list[0:midpoint],target)\n",
    "            \n",
    "def verify2(index):\n",
    "    print(\"Target found: \", result)"
   ]
  },
  {
   "cell_type": "code",
   "execution_count": 23,
   "metadata": {},
   "outputs": [
    {
     "name": "stdout",
     "output_type": "stream",
     "text": [
      "Target found:  False\n"
     ]
    }
   ],
   "source": [
    "result = recursive_binary_search(numbers,12)\n",
    "verify2(result)"
   ]
  },
  {
   "cell_type": "code",
   "execution_count": 24,
   "metadata": {},
   "outputs": [
    {
     "name": "stdout",
     "output_type": "stream",
     "text": [
      "Target found:  True\n"
     ]
    }
   ],
   "source": [
    "result = recursive_binary_search(numbers,6)\n",
    "verify2(result)"
   ]
  },
  {
   "cell_type": "code",
   "execution_count": null,
   "metadata": {},
   "outputs": [],
   "source": []
  }
 ],
 "metadata": {
  "kernelspec": {
   "display_name": "Python 3",
   "language": "python",
   "name": "python3"
  },
  "language_info": {
   "codemirror_mode": {
    "name": "ipython",
    "version": 3
   },
   "file_extension": ".py",
   "mimetype": "text/x-python",
   "name": "python",
   "nbconvert_exporter": "python",
   "pygments_lexer": "ipython3",
   "version": "3.6.13"
  }
 },
 "nbformat": 4,
 "nbformat_minor": 4
}
